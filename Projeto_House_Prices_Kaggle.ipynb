{
 "cells": [
  {
   "cell_type": "markdown",
   "id": "9ab1f7a6",
   "metadata": {},
   "source": [
    "# House Prices - Advanced Regression Techniques\n",
    "(Preços de casas - Técnicas Avançadas de Regressão)\n",
    "\n",
    "- Vamos utilizar o [dataset disponível no Kaggle](https://www.kaggle.com/competitions/house-prices-advanced-regression-techniques/overview)\n",
    "    - É um dataset de **competição**\n",
    "    - Temos uma base com a **descrição de cada uma das colunas (data_description.txt)**"
   ]
  },
  {
   "cell_type": "code",
   "execution_count": 1,
   "id": "0233c934",
   "metadata": {},
   "outputs": [],
   "source": [
    "# Importando o pandas\n",
    "import pandas as pd"
   ]
  },
  {
   "cell_type": "code",
   "execution_count": 2,
   "id": "3c8d95e7",
   "metadata": {},
   "outputs": [],
   "source": [
    "# Importando o dataset de treino\n",
    "treino = pd.read_csv('train(1).csv')"
   ]
  },
  {
   "cell_type": "code",
   "execution_count": 3,
   "id": "bfd24d0c",
   "metadata": {},
   "outputs": [
    {
     "data": {
      "text/html": [
       "<div>\n",
       "<style scoped>\n",
       "    .dataframe tbody tr th:only-of-type {\n",
       "        vertical-align: middle;\n",
       "    }\n",
       "\n",
       "    .dataframe tbody tr th {\n",
       "        vertical-align: top;\n",
       "    }\n",
       "\n",
       "    .dataframe thead th {\n",
       "        text-align: right;\n",
       "    }\n",
       "</style>\n",
       "<table border=\"1\" class=\"dataframe\">\n",
       "  <thead>\n",
       "    <tr style=\"text-align: right;\">\n",
       "      <th></th>\n",
       "      <th>Id</th>\n",
       "      <th>MSSubClass</th>\n",
       "      <th>MSZoning</th>\n",
       "      <th>LotFrontage</th>\n",
       "      <th>LotArea</th>\n",
       "      <th>Street</th>\n",
       "      <th>Alley</th>\n",
       "      <th>LotShape</th>\n",
       "      <th>LandContour</th>\n",
       "      <th>Utilities</th>\n",
       "      <th>...</th>\n",
       "      <th>PoolArea</th>\n",
       "      <th>PoolQC</th>\n",
       "      <th>Fence</th>\n",
       "      <th>MiscFeature</th>\n",
       "      <th>MiscVal</th>\n",
       "      <th>MoSold</th>\n",
       "      <th>YrSold</th>\n",
       "      <th>SaleType</th>\n",
       "      <th>SaleCondition</th>\n",
       "      <th>SalePrice</th>\n",
       "    </tr>\n",
       "  </thead>\n",
       "  <tbody>\n",
       "    <tr>\n",
       "      <th>0</th>\n",
       "      <td>1</td>\n",
       "      <td>60</td>\n",
       "      <td>RL</td>\n",
       "      <td>65.0</td>\n",
       "      <td>8450</td>\n",
       "      <td>Pave</td>\n",
       "      <td>NaN</td>\n",
       "      <td>Reg</td>\n",
       "      <td>Lvl</td>\n",
       "      <td>AllPub</td>\n",
       "      <td>...</td>\n",
       "      <td>0</td>\n",
       "      <td>NaN</td>\n",
       "      <td>NaN</td>\n",
       "      <td>NaN</td>\n",
       "      <td>0</td>\n",
       "      <td>2</td>\n",
       "      <td>2008</td>\n",
       "      <td>WD</td>\n",
       "      <td>Normal</td>\n",
       "      <td>208500</td>\n",
       "    </tr>\n",
       "    <tr>\n",
       "      <th>1</th>\n",
       "      <td>2</td>\n",
       "      <td>20</td>\n",
       "      <td>RL</td>\n",
       "      <td>80.0</td>\n",
       "      <td>9600</td>\n",
       "      <td>Pave</td>\n",
       "      <td>NaN</td>\n",
       "      <td>Reg</td>\n",
       "      <td>Lvl</td>\n",
       "      <td>AllPub</td>\n",
       "      <td>...</td>\n",
       "      <td>0</td>\n",
       "      <td>NaN</td>\n",
       "      <td>NaN</td>\n",
       "      <td>NaN</td>\n",
       "      <td>0</td>\n",
       "      <td>5</td>\n",
       "      <td>2007</td>\n",
       "      <td>WD</td>\n",
       "      <td>Normal</td>\n",
       "      <td>181500</td>\n",
       "    </tr>\n",
       "    <tr>\n",
       "      <th>2</th>\n",
       "      <td>3</td>\n",
       "      <td>60</td>\n",
       "      <td>RL</td>\n",
       "      <td>68.0</td>\n",
       "      <td>11250</td>\n",
       "      <td>Pave</td>\n",
       "      <td>NaN</td>\n",
       "      <td>IR1</td>\n",
       "      <td>Lvl</td>\n",
       "      <td>AllPub</td>\n",
       "      <td>...</td>\n",
       "      <td>0</td>\n",
       "      <td>NaN</td>\n",
       "      <td>NaN</td>\n",
       "      <td>NaN</td>\n",
       "      <td>0</td>\n",
       "      <td>9</td>\n",
       "      <td>2008</td>\n",
       "      <td>WD</td>\n",
       "      <td>Normal</td>\n",
       "      <td>223500</td>\n",
       "    </tr>\n",
       "  </tbody>\n",
       "</table>\n",
       "<p>3 rows × 81 columns</p>\n",
       "</div>"
      ],
      "text/plain": [
       "   Id  MSSubClass MSZoning  LotFrontage  LotArea Street Alley LotShape  \\\n",
       "0   1          60       RL         65.0     8450   Pave   NaN      Reg   \n",
       "1   2          20       RL         80.0     9600   Pave   NaN      Reg   \n",
       "2   3          60       RL         68.0    11250   Pave   NaN      IR1   \n",
       "\n",
       "  LandContour Utilities  ... PoolArea PoolQC Fence MiscFeature MiscVal MoSold  \\\n",
       "0         Lvl    AllPub  ...        0    NaN   NaN         NaN       0      2   \n",
       "1         Lvl    AllPub  ...        0    NaN   NaN         NaN       0      5   \n",
       "2         Lvl    AllPub  ...        0    NaN   NaN         NaN       0      9   \n",
       "\n",
       "  YrSold  SaleType  SaleCondition  SalePrice  \n",
       "0   2008        WD         Normal     208500  \n",
       "1   2007        WD         Normal     181500  \n",
       "2   2008        WD         Normal     223500  \n",
       "\n",
       "[3 rows x 81 columns]"
      ]
     },
     "execution_count": 3,
     "metadata": {},
     "output_type": "execute_result"
    }
   ],
   "source": [
    "# Visualizando essa base\n",
    "treino.head(3)"
   ]
  },
  {
   "cell_type": "code",
   "execution_count": 4,
   "id": "3bbab431",
   "metadata": {},
   "outputs": [
    {
     "data": {
      "text/plain": [
       "(1460, 81)"
      ]
     },
     "execution_count": 4,
     "metadata": {},
     "output_type": "execute_result"
    }
   ],
   "source": [
    "# Retornando o shape da base\n",
    "treino.shape"
   ]
  },
  {
   "cell_type": "code",
   "execution_count": 5,
   "id": "ba3f0cd6",
   "metadata": {},
   "outputs": [
    {
     "name": "stdout",
     "output_type": "stream",
     "text": [
      "<class 'pandas.core.frame.DataFrame'>\n",
      "RangeIndex: 1460 entries, 0 to 1459\n",
      "Data columns (total 81 columns):\n",
      " #   Column         Non-Null Count  Dtype  \n",
      "---  ------         --------------  -----  \n",
      " 0   Id             1460 non-null   int64  \n",
      " 1   MSSubClass     1460 non-null   int64  \n",
      " 2   MSZoning       1460 non-null   object \n",
      " 3   LotFrontage    1201 non-null   float64\n",
      " 4   LotArea        1460 non-null   int64  \n",
      " 5   Street         1460 non-null   object \n",
      " 6   Alley          91 non-null     object \n",
      " 7   LotShape       1460 non-null   object \n",
      " 8   LandContour    1460 non-null   object \n",
      " 9   Utilities      1460 non-null   object \n",
      " 10  LotConfig      1460 non-null   object \n",
      " 11  LandSlope      1460 non-null   object \n",
      " 12  Neighborhood   1460 non-null   object \n",
      " 13  Condition1     1460 non-null   object \n",
      " 14  Condition2     1460 non-null   object \n",
      " 15  BldgType       1460 non-null   object \n",
      " 16  HouseStyle     1460 non-null   object \n",
      " 17  OverallQual    1460 non-null   int64  \n",
      " 18  OverallCond    1460 non-null   int64  \n",
      " 19  YearBuilt      1460 non-null   int64  \n",
      " 20  YearRemodAdd   1460 non-null   int64  \n",
      " 21  RoofStyle      1460 non-null   object \n",
      " 22  RoofMatl       1460 non-null   object \n",
      " 23  Exterior1st    1460 non-null   object \n",
      " 24  Exterior2nd    1460 non-null   object \n",
      " 25  MasVnrType     588 non-null    object \n",
      " 26  MasVnrArea     1452 non-null   float64\n",
      " 27  ExterQual      1460 non-null   object \n",
      " 28  ExterCond      1460 non-null   object \n",
      " 29  Foundation     1460 non-null   object \n",
      " 30  BsmtQual       1423 non-null   object \n",
      " 31  BsmtCond       1423 non-null   object \n",
      " 32  BsmtExposure   1422 non-null   object \n",
      " 33  BsmtFinType1   1423 non-null   object \n",
      " 34  BsmtFinSF1     1460 non-null   int64  \n",
      " 35  BsmtFinType2   1422 non-null   object \n",
      " 36  BsmtFinSF2     1460 non-null   int64  \n",
      " 37  BsmtUnfSF      1460 non-null   int64  \n",
      " 38  TotalBsmtSF    1460 non-null   int64  \n",
      " 39  Heating        1460 non-null   object \n",
      " 40  HeatingQC      1460 non-null   object \n",
      " 41  CentralAir     1460 non-null   object \n",
      " 42  Electrical     1459 non-null   object \n",
      " 43  1stFlrSF       1460 non-null   int64  \n",
      " 44  2ndFlrSF       1460 non-null   int64  \n",
      " 45  LowQualFinSF   1460 non-null   int64  \n",
      " 46  GrLivArea      1460 non-null   int64  \n",
      " 47  BsmtFullBath   1460 non-null   int64  \n",
      " 48  BsmtHalfBath   1460 non-null   int64  \n",
      " 49  FullBath       1460 non-null   int64  \n",
      " 50  HalfBath       1460 non-null   int64  \n",
      " 51  BedroomAbvGr   1460 non-null   int64  \n",
      " 52  KitchenAbvGr   1460 non-null   int64  \n",
      " 53  KitchenQual    1460 non-null   object \n",
      " 54  TotRmsAbvGrd   1460 non-null   int64  \n",
      " 55  Functional     1460 non-null   object \n",
      " 56  Fireplaces     1460 non-null   int64  \n",
      " 57  FireplaceQu    770 non-null    object \n",
      " 58  GarageType     1379 non-null   object \n",
      " 59  GarageYrBlt    1379 non-null   float64\n",
      " 60  GarageFinish   1379 non-null   object \n",
      " 61  GarageCars     1460 non-null   int64  \n",
      " 62  GarageArea     1460 non-null   int64  \n",
      " 63  GarageQual     1379 non-null   object \n",
      " 64  GarageCond     1379 non-null   object \n",
      " 65  PavedDrive     1460 non-null   object \n",
      " 66  WoodDeckSF     1460 non-null   int64  \n",
      " 67  OpenPorchSF    1460 non-null   int64  \n",
      " 68  EnclosedPorch  1460 non-null   int64  \n",
      " 69  3SsnPorch      1460 non-null   int64  \n",
      " 70  ScreenPorch    1460 non-null   int64  \n",
      " 71  PoolArea       1460 non-null   int64  \n",
      " 72  PoolQC         7 non-null      object \n",
      " 73  Fence          281 non-null    object \n",
      " 74  MiscFeature    54 non-null     object \n",
      " 75  MiscVal        1460 non-null   int64  \n",
      " 76  MoSold         1460 non-null   int64  \n",
      " 77  YrSold         1460 non-null   int64  \n",
      " 78  SaleType       1460 non-null   object \n",
      " 79  SaleCondition  1460 non-null   object \n",
      " 80  SalePrice      1460 non-null   int64  \n",
      "dtypes: float64(3), int64(35), object(43)\n",
      "memory usage: 924.0+ KB\n"
     ]
    }
   ],
   "source": [
    "# E as informações\n",
    "treino.info()"
   ]
  },
  {
   "cell_type": "markdown",
   "id": "2db0cfd3",
   "metadata": {},
   "source": [
    "## Começando a explorar os dados"
   ]
  },
  {
   "cell_type": "code",
   "execution_count": 6,
   "id": "b6528772",
   "metadata": {},
   "outputs": [
    {
     "data": {
      "text/plain": [
       "Id               0.0\n",
       "TotalBsmtSF      0.0\n",
       "Heating          0.0\n",
       "SaleCondition    0.0\n",
       "CentralAir       0.0\n",
       "1stFlrSF         0.0\n",
       "2ndFlrSF         0.0\n",
       "LowQualFinSF     0.0\n",
       "GrLivArea        0.0\n",
       "BsmtFullBath     0.0\n",
       "BsmtHalfBath     0.0\n",
       "FullBath         0.0\n",
       "HalfBath         0.0\n",
       "BedroomAbvGr     0.0\n",
       "KitchenAbvGr     0.0\n",
       "KitchenQual      0.0\n",
       "TotRmsAbvGrd     0.0\n",
       "Functional       0.0\n",
       "SaleType         0.0\n",
       "YrSold           0.0\n",
       "MoSold           0.0\n",
       "MiscVal          0.0\n",
       "PoolArea         0.0\n",
       "ScreenPorch      0.0\n",
       "BsmtUnfSF        0.0\n",
       "dtype: float64"
      ]
     },
     "execution_count": 6,
     "metadata": {},
     "output_type": "execute_result"
    }
   ],
   "source": [
    "# Visualizando quantidade de valores vazios\n",
    "(treino.isnull().sum()/treino.shape[0]).sort_values(ascending=True).head(25)"
   ]
  },
  {
   "cell_type": "code",
   "execution_count": 7,
   "id": "bda71526",
   "metadata": {},
   "outputs": [
    {
     "data": {
      "text/plain": [
       "Index(['LotFrontage', 'Alley', 'MasVnrType', 'FireplaceQu', 'PoolQC', 'Fence',\n",
       "       'MiscFeature'],\n",
       "      dtype='object')"
      ]
     },
     "execution_count": 7,
     "metadata": {},
     "output_type": "execute_result"
    }
   ],
   "source": [
    "# Podemos eliminar as colunas com mais de 10% de valores vazios\n",
    "eliminar = treino.columns[treino.isnull().sum()/treino.shape[0] > 0.1]\n",
    "eliminar"
   ]
  },
  {
   "cell_type": "code",
   "execution_count": 8,
   "id": "ff97453f",
   "metadata": {},
   "outputs": [],
   "source": [
    "# Eliminando essas colunas\n",
    "treino = treino.drop(eliminar,axis=1)"
   ]
  },
  {
   "cell_type": "markdown",
   "id": "7e83cd85",
   "metadata": {},
   "source": [
    "- Queremos criar um primeiro modelo para verificar o quanto estamos errando e depois planejar como melhorar. Para isso:\n",
    "    - Precisamos **retirar os valores vazios**\n",
    "    - Vamos **eliminar as colunas de texto**\n",
    "    - Vamos **escolher alguns algoritmos para testar e um método de avaliação de erro**"
   ]
  },
  {
   "cell_type": "code",
   "execution_count": 9,
   "id": "aaf30e05",
   "metadata": {},
   "outputs": [],
   "source": [
    "# Retirando os valores vazios\n",
    "treino = treino.fillna(-1)"
   ]
  },
  {
   "cell_type": "code",
   "execution_count": 10,
   "id": "5f40bdfc",
   "metadata": {},
   "outputs": [
    {
     "data": {
      "text/plain": [
       "Id              0.0\n",
       "Functional      0.0\n",
       "TotRmsAbvGrd    0.0\n",
       "dtype: float64"
      ]
     },
     "execution_count": 10,
     "metadata": {},
     "output_type": "execute_result"
    }
   ],
   "source": [
    "# Verificando novamente as informações\n",
    "(treino.isnull().sum()/treino.shape[0]).sort_values(ascending=True).head(3)"
   ]
  },
  {
   "cell_type": "code",
   "execution_count": 11,
   "id": "572df872",
   "metadata": {},
   "outputs": [
    {
     "data": {
      "text/plain": [
       "Index(['Id', 'MSSubClass', 'LotArea', 'OverallQual', 'OverallCond',\n",
       "       'YearBuilt', 'YearRemodAdd', 'MasVnrArea', 'BsmtFinSF1', 'BsmtFinSF2',\n",
       "       'BsmtUnfSF', 'TotalBsmtSF', '1stFlrSF', '2ndFlrSF', 'LowQualFinSF',\n",
       "       'GrLivArea', 'BsmtFullBath', 'BsmtHalfBath', 'FullBath', 'HalfBath',\n",
       "       'BedroomAbvGr', 'KitchenAbvGr', 'TotRmsAbvGrd', 'Fireplaces',\n",
       "       'GarageYrBlt', 'GarageCars', 'GarageArea', 'WoodDeckSF', 'OpenPorchSF',\n",
       "       'EnclosedPorch', '3SsnPorch', 'ScreenPorch', 'PoolArea', 'MiscVal',\n",
       "       'MoSold', 'YrSold', 'SalePrice'],\n",
       "      dtype='object')"
      ]
     },
     "execution_count": 11,
     "metadata": {},
     "output_type": "execute_result"
    }
   ],
   "source": [
    "# Agora selecionando apenas as colunas numéricas\n",
    "\n",
    "col_nr = treino.columns[treino.dtypes != 'object']\n",
    "col_nr"
   ]
  },
  {
   "cell_type": "code",
   "execution_count": 12,
   "id": "2bd4e288",
   "metadata": {},
   "outputs": [],
   "source": [
    "# E criar uma nova base com esses valores\n",
    "\n",
    "treino = treino.loc[:,col_nr]"
   ]
  },
  {
   "cell_type": "markdown",
   "id": "3fe0ffdf",
   "metadata": {},
   "source": [
    "- Essa será nossa base inicial para começar"
   ]
  },
  {
   "cell_type": "markdown",
   "id": "5a686ce6",
   "metadata": {},
   "source": [
    "## Criando nosso modelo"
   ]
  },
  {
   "cell_type": "markdown",
   "id": "ee0b769c",
   "metadata": {},
   "source": [
    "- **Vamos separar em treino e teste**\n",
    "    - https://scikit-learn.org/stable/modules/generated/sklearn.model_selection.train_test_split.html"
   ]
  },
  {
   "cell_type": "code",
   "execution_count": 13,
   "id": "7f7b8193",
   "metadata": {},
   "outputs": [],
   "source": [
    "# Selecionando X e y\n",
    "X = treino.drop('SalePrice', axis=1)\n",
    "y = treino.SalePrice"
   ]
  },
  {
   "cell_type": "code",
   "execution_count": 14,
   "id": "149956b5",
   "metadata": {},
   "outputs": [],
   "source": [
    "# Importando o train_test_split\n",
    "from sklearn.model_selection import train_test_split"
   ]
  },
  {
   "cell_type": "code",
   "execution_count": 15,
   "id": "6ec49ce2",
   "metadata": {},
   "outputs": [],
   "source": [
    "# Separando essa base em treino e teste\n",
    "X_train, X_test, y_train, y_test = train_test_split(X, y, test_size=0.33, random_state=42)"
   ]
  },
  {
   "cell_type": "markdown",
   "id": "72614e5e",
   "metadata": {},
   "source": [
    "- **O próximo passo é selecionar os algoritmos que vamos utilizar. Podemos começar com os algoritmos mais simples como:**\n",
    "    - Regressão Linear\n",
    "        - https://scikit-learn.org/stable/modules/generated/sklearn.linear_model.LinearRegression.html\n",
    "    - Árvore de Regressão\n",
    "        - https://scikit-learn.org/stable/modules/tree.html#regression\n",
    "    - KNeighborsRegressor\n",
    "        - https://scikit-learn.org/stable/modules/generated/sklearn.neighbors.KNeighborsRegressor.html#sklearn.neighbors.KNeighborsRegressor"
   ]
  },
  {
   "cell_type": "code",
   "execution_count": 16,
   "id": "50bf2902",
   "metadata": {},
   "outputs": [],
   "source": [
    "# Importando a regressão linear\n",
    "from sklearn.linear_model import LinearRegression"
   ]
  },
  {
   "cell_type": "code",
   "execution_count": 17,
   "id": "76235128",
   "metadata": {},
   "outputs": [],
   "source": [
    "# Criando o regressor e fazendo o fit com os dados de treino\n",
    "reg_rl = LinearRegression().fit(X_train, y_train)"
   ]
  },
  {
   "cell_type": "code",
   "execution_count": 18,
   "id": "581ebb2d",
   "metadata": {},
   "outputs": [],
   "source": [
    "# Fazendo a previsão pros dados de teste\n",
    "y_pred_rl = reg_rl.predict(X_test)"
   ]
  },
  {
   "cell_type": "code",
   "execution_count": 19,
   "id": "1bfbbbdf",
   "metadata": {},
   "outputs": [],
   "source": [
    "# Importando a árvore de regressão\n",
    "from sklearn import tree"
   ]
  },
  {
   "cell_type": "code",
   "execution_count": 20,
   "id": "b4bacf9b",
   "metadata": {},
   "outputs": [],
   "source": [
    "# Criando o regressor e fazendo o fit com os dados de treino\n",
    "reg_ad = tree.DecisionTreeClassifier().fit(X_train, y_train)"
   ]
  },
  {
   "cell_type": "code",
   "execution_count": 21,
   "id": "8f44b273",
   "metadata": {},
   "outputs": [],
   "source": [
    "# Fazendo a previsão\n",
    "y_pred_ad = reg_ad.predict(X_test)"
   ]
  },
  {
   "cell_type": "code",
   "execution_count": 22,
   "id": "a2286fb9",
   "metadata": {},
   "outputs": [],
   "source": [
    "# Importando o KNN\n",
    "from sklearn.neighbors import KNeighborsRegressor"
   ]
  },
  {
   "cell_type": "code",
   "execution_count": 23,
   "id": "11210713",
   "metadata": {},
   "outputs": [],
   "source": [
    "# Criando o regressor e fazendo o fit com os dados de treino\n",
    "reg_knn = KNeighborsRegressor(n_neighbors=2).fit(X_train, y_train)"
   ]
  },
  {
   "cell_type": "code",
   "execution_count": 24,
   "id": "b337d25a",
   "metadata": {},
   "outputs": [],
   "source": [
    "# Fazendo a previsão\n",
    "y_pred_knn = reg_knn.predict(X_test)"
   ]
  },
  {
   "cell_type": "markdown",
   "id": "fdd63bff",
   "metadata": {},
   "source": [
    "- **E avaliar esses dados, utilizando tanto o erro absoluto quanto o quadrático:**\n",
    "    - Erro médio absoluto\n",
    "        - https://scikit-learn.org/stable/modules/generated/sklearn.metrics.mean_absolute_error.html\n",
    "    - Erro quadrático médio\n",
    "        - https://scikit-learn.org/stable/modules/generated/sklearn.metrics.mean_squared_error.html"
   ]
  },
  {
   "cell_type": "code",
   "execution_count": 25,
   "id": "269a3bcd",
   "metadata": {},
   "outputs": [],
   "source": [
    "# Importando o erro médio absoluto\n",
    "from sklearn.metrics import mean_squared_error\n",
    "from sklearn.metrics import mean_absolute_error"
   ]
  },
  {
   "cell_type": "code",
   "execution_count": 26,
   "id": "12eb2132",
   "metadata": {},
   "outputs": [],
   "source": [
    "# E o erro quadrático médio\n",
    "from sklearn.metrics import mean_squared_error"
   ]
  },
  {
   "cell_type": "code",
   "execution_count": 27,
   "id": "14769a7a",
   "metadata": {},
   "outputs": [
    {
     "name": "stdout",
     "output_type": "stream",
     "text": [
      "1533982883.444886\n",
      "23763.187393064058\n"
     ]
    }
   ],
   "source": [
    "# Avaliando o erro da regressão\n",
    "print(mean_squared_error(y_test, y_pred_rl))\n",
    "print(mean_absolute_error(y_test, y_pred_rl))"
   ]
  },
  {
   "cell_type": "code",
   "execution_count": 28,
   "id": "2417d97e",
   "metadata": {},
   "outputs": [
    {
     "name": "stdout",
     "output_type": "stream",
     "text": [
      "3432368540.93361\n",
      "34921.464730290456\n"
     ]
    }
   ],
   "source": [
    "# da árvore de decisão\n",
    "print(mean_squared_error(y_test, y_pred_ad))\n",
    "print(mean_absolute_error(y_test, y_pred_ad))"
   ]
  },
  {
   "cell_type": "code",
   "execution_count": 29,
   "id": "b3159911",
   "metadata": {},
   "outputs": [
    {
     "name": "stdout",
     "output_type": "stream",
     "text": [
      "2733937586.841286\n",
      "33273.08298755187\n"
     ]
    }
   ],
   "source": [
    "# e do knn\n",
    "print(mean_squared_error(y_test, y_pred_knn))\n",
    "print(mean_absolute_error(y_test, y_pred_knn))"
   ]
  },
  {
   "cell_type": "markdown",
   "id": "162028e9",
   "metadata": {},
   "source": [
    "- **Podemos plotar visualmente a relação do y_test com as previsões feitas**\n",
    "    - Para isso vamos utilizar o matplotlib\n",
    "        - https://matplotlib.org/"
   ]
  },
  {
   "cell_type": "code",
   "execution_count": 30,
   "id": "7e5f78f8",
   "metadata": {},
   "outputs": [],
   "source": [
    "# Importando o matplotlib\n",
    "import matplotlib.pyplot as plt\n",
    "import numpy as np"
   ]
  },
  {
   "cell_type": "code",
   "execution_count": 31,
   "id": "a6bf59eb",
   "metadata": {},
   "outputs": [
    {
     "data": {
      "image/png": "[encoded data removed]",
      "text/plain": [
       "<Figure size 1500x500 with 3 Axes>"
      ]
     },
     "metadata": {},
     "output_type": "display_data"
    }
   ],
   "source": [
    "# Criando esse gráfico\n",
    "fig, ax = plt.subplots(ncols=3, figsize=(15,5))\n",
    "\n",
    "ax[0].scatter(y_test/100000, y_pred_rl/100000, color='silver')\n",
    "ax[0].plot([0,8],[0,8], '--r')\n",
    "ax[1].scatter(y_test/100000, y_pred_ad/100000, color='silver')\n",
    "ax[1].plot([0,8],[0,8], '--g')\n",
    "ax[2].scatter(y_test/100000, y_pred_knn/100000, color='silver')\n",
    "ax[2].plot([0,8],[0,8], '--y')\n",
    "\n",
    "ax[0].set(xlim=(0, 8), ylim=(0, 8))\n",
    "ax[0].set_xlabel('y_test (x100.000)')\n",
    "ax[0].set_ylabel('y_pred (x100.000)')\n",
    "ax[0].set_title('Regressão Linear')\n",
    "\n",
    "ax[1].set(xlim=(0, 8), ylim=(0, 8))\n",
    "ax[1].set_xlabel('y_test (x100.000)')\n",
    "ax[1].set_ylabel('y_pred (x100.000)')\n",
    "ax[1].set_title('Árvore de Regressão')\n",
    "\n",
    "\n",
    "ax[2].set(xlim=(0, 8), ylim=(0, 8))\n",
    "ax[2].set_xlabel('y_test (x100.000)')\n",
    "ax[2].set_ylabel('y_pred (x100.000)')\n",
    "ax[2].set_title('KNN')\n",
    "\n",
    "plt.show()"
   ]
  },
  {
   "cell_type": "markdown",
   "id": "e262938a",
   "metadata": {},
   "source": [
    "- **Vamos utilizar a Regressão Linear por ter sido o algoritmo com menor erro quadrático médio, a mesma métrica avaliada pelo Kaggle na hora de classificar os modelos**"
   ]
  },
  {
   "cell_type": "markdown",
   "id": "d855508c",
   "metadata": {},
   "source": [
    "## Fazendo a previsão para a base de teste da competição"
   ]
  },
  {
   "cell_type": "code",
   "execution_count": 32,
   "id": "8d98c739",
   "metadata": {},
   "outputs": [],
   "source": [
    "# Importando a base de teste\n",
    "teste = pd.read_csv('test.csv')"
   ]
  },
  {
   "cell_type": "code",
   "execution_count": 33,
   "id": "83a9ca6f",
   "metadata": {},
   "outputs": [
    {
     "data": {
      "text/html": [
       "<div>\n",
       "<style scoped>\n",
       "    .dataframe tbody tr th:only-of-type {\n",
       "        vertical-align: middle;\n",
       "    }\n",
       "\n",
       "    .dataframe tbody tr th {\n",
       "        vertical-align: top;\n",
       "    }\n",
       "\n",
       "    .dataframe thead th {\n",
       "        text-align: right;\n",
       "    }\n",
       "</style>\n",
       "<table border=\"1\" class=\"dataframe\">\n",
       "  <thead>\n",
       "    <tr style=\"text-align: right;\">\n",
       "      <th></th>\n",
       "      <th>Id</th>\n",
       "      <th>MSSubClass</th>\n",
       "      <th>MSZoning</th>\n",
       "      <th>LotFrontage</th>\n",
       "      <th>LotArea</th>\n",
       "      <th>Street</th>\n",
       "      <th>Alley</th>\n",
       "      <th>LotShape</th>\n",
       "      <th>LandContour</th>\n",
       "      <th>Utilities</th>\n",
       "      <th>...</th>\n",
       "      <th>ScreenPorch</th>\n",
       "      <th>PoolArea</th>\n",
       "      <th>PoolQC</th>\n",
       "      <th>Fence</th>\n",
       "      <th>MiscFeature</th>\n",
       "      <th>MiscVal</th>\n",
       "      <th>MoSold</th>\n",
       "      <th>YrSold</th>\n",
       "      <th>SaleType</th>\n",
       "      <th>SaleCondition</th>\n",
       "    </tr>\n",
       "  </thead>\n",
       "  <tbody>\n",
       "    <tr>\n",
       "      <th>0</th>\n",
       "      <td>1461</td>\n",
       "      <td>20</td>\n",
       "      <td>RH</td>\n",
       "      <td>80.0</td>\n",
       "      <td>11622</td>\n",
       "      <td>Pave</td>\n",
       "      <td>NaN</td>\n",
       "      <td>Reg</td>\n",
       "      <td>Lvl</td>\n",
       "      <td>AllPub</td>\n",
       "      <td>...</td>\n",
       "      <td>120</td>\n",
       "      <td>0</td>\n",
       "      <td>NaN</td>\n",
       "      <td>MnPrv</td>\n",
       "      <td>NaN</td>\n",
       "      <td>0</td>\n",
       "      <td>6</td>\n",
       "      <td>2010</td>\n",
       "      <td>WD</td>\n",
       "      <td>Normal</td>\n",
       "    </tr>\n",
       "    <tr>\n",
       "      <th>1</th>\n",
       "      <td>1462</td>\n",
       "      <td>20</td>\n",
       "      <td>RL</td>\n",
       "      <td>81.0</td>\n",
       "      <td>14267</td>\n",
       "      <td>Pave</td>\n",
       "      <td>NaN</td>\n",
       "      <td>IR1</td>\n",
       "      <td>Lvl</td>\n",
       "      <td>AllPub</td>\n",
       "      <td>...</td>\n",
       "      <td>0</td>\n",
       "      <td>0</td>\n",
       "      <td>NaN</td>\n",
       "      <td>NaN</td>\n",
       "      <td>Gar2</td>\n",
       "      <td>12500</td>\n",
       "      <td>6</td>\n",
       "      <td>2010</td>\n",
       "      <td>WD</td>\n",
       "      <td>Normal</td>\n",
       "    </tr>\n",
       "    <tr>\n",
       "      <th>2</th>\n",
       "      <td>1463</td>\n",
       "      <td>60</td>\n",
       "      <td>RL</td>\n",
       "      <td>74.0</td>\n",
       "      <td>13830</td>\n",
       "      <td>Pave</td>\n",
       "      <td>NaN</td>\n",
       "      <td>IR1</td>\n",
       "      <td>Lvl</td>\n",
       "      <td>AllPub</td>\n",
       "      <td>...</td>\n",
       "      <td>0</td>\n",
       "      <td>0</td>\n",
       "      <td>NaN</td>\n",
       "      <td>MnPrv</td>\n",
       "      <td>NaN</td>\n",
       "      <td>0</td>\n",
       "      <td>3</td>\n",
       "      <td>2010</td>\n",
       "      <td>WD</td>\n",
       "      <td>Normal</td>\n",
       "    </tr>\n",
       "  </tbody>\n",
       "</table>\n",
       "<p>3 rows × 80 columns</p>\n",
       "</div>"
      ],
      "text/plain": [
       "     Id  MSSubClass MSZoning  LotFrontage  LotArea Street Alley LotShape  \\\n",
       "0  1461          20       RH         80.0    11622   Pave   NaN      Reg   \n",
       "1  1462          20       RL         81.0    14267   Pave   NaN      IR1   \n",
       "2  1463          60       RL         74.0    13830   Pave   NaN      IR1   \n",
       "\n",
       "  LandContour Utilities  ... ScreenPorch PoolArea PoolQC  Fence MiscFeature  \\\n",
       "0         Lvl    AllPub  ...         120        0    NaN  MnPrv         NaN   \n",
       "1         Lvl    AllPub  ...           0        0    NaN    NaN        Gar2   \n",
       "2         Lvl    AllPub  ...           0        0    NaN  MnPrv         NaN   \n",
       "\n",
       "  MiscVal MoSold  YrSold  SaleType  SaleCondition  \n",
       "0       0      6    2010        WD         Normal  \n",
       "1   12500      6    2010        WD         Normal  \n",
       "2       0      3    2010        WD         Normal  \n",
       "\n",
       "[3 rows x 80 columns]"
      ]
     },
     "execution_count": 33,
     "metadata": {},
     "output_type": "execute_result"
    }
   ],
   "source": [
    "# Visualizando a base\n",
    "teste.head(3)"
   ]
  },
  {
   "cell_type": "markdown",
   "id": "c78b0e24",
   "metadata": {},
   "source": [
    "- **Agora vamos repetir os mesmos tratamentos que fizemos na base de treino**\n",
    "    - Obs: **não podemos excluir linhas**"
   ]
  },
  {
   "cell_type": "code",
   "execution_count": 34,
   "id": "ffe3cade",
   "metadata": {},
   "outputs": [],
   "source": [
    "# Eliminando as mesmas colunas da base de treino\n",
    "teste = teste.drop(eliminar,axis=1)"
   ]
  },
  {
   "cell_type": "code",
   "execution_count": 35,
   "id": "cfce9334",
   "metadata": {},
   "outputs": [
    {
     "data": {
      "text/plain": [
       "Index(['Id', 'MSSubClass', 'LotArea', 'OverallQual', 'OverallCond',\n",
       "       'YearBuilt', 'YearRemodAdd', 'MasVnrArea', 'BsmtFinSF1', 'BsmtFinSF2',\n",
       "       'BsmtUnfSF', 'TotalBsmtSF', '1stFlrSF', '2ndFlrSF', 'LowQualFinSF',\n",
       "       'GrLivArea', 'BsmtFullBath', 'BsmtHalfBath', 'FullBath', 'HalfBath',\n",
       "       'BedroomAbvGr', 'KitchenAbvGr', 'TotRmsAbvGrd', 'Fireplaces',\n",
       "       'GarageYrBlt', 'GarageCars', 'GarageArea', 'WoodDeckSF', 'OpenPorchSF',\n",
       "       'EnclosedPorch', '3SsnPorch', 'ScreenPorch', 'PoolArea', 'MiscVal',\n",
       "       'MoSold', 'YrSold'],\n",
       "      dtype='object')"
      ]
     },
     "execution_count": 35,
     "metadata": {},
     "output_type": "execute_result"
    }
   ],
   "source": [
    "# Verificando as colunas numéricas\n",
    "col_nr_test = teste.columns[teste.dtypes != 'object']\n",
    "col_nr_test"
   ]
  },
  {
   "cell_type": "code",
   "execution_count": 36,
   "id": "f1cab80b",
   "metadata": {},
   "outputs": [],
   "source": [
    "# Mantendo também apenas as colunas numéricas\n",
    "teste = teste.loc[:,col_nr_test]"
   ]
  },
  {
   "cell_type": "code",
   "execution_count": 37,
   "id": "eb322627",
   "metadata": {},
   "outputs": [
    {
     "data": {
      "text/html": [
       "<div>\n",
       "<style scoped>\n",
       "    .dataframe tbody tr th:only-of-type {\n",
       "        vertical-align: middle;\n",
       "    }\n",
       "\n",
       "    .dataframe tbody tr th {\n",
       "        vertical-align: top;\n",
       "    }\n",
       "\n",
       "    .dataframe thead th {\n",
       "        text-align: right;\n",
       "    }\n",
       "</style>\n",
       "<table border=\"1\" class=\"dataframe\">\n",
       "  <thead>\n",
       "    <tr style=\"text-align: right;\">\n",
       "      <th></th>\n",
       "      <th>Id</th>\n",
       "      <th>MSSubClass</th>\n",
       "      <th>LotArea</th>\n",
       "      <th>OverallQual</th>\n",
       "      <th>OverallCond</th>\n",
       "      <th>YearBuilt</th>\n",
       "      <th>YearRemodAdd</th>\n",
       "      <th>MasVnrArea</th>\n",
       "      <th>BsmtFinSF1</th>\n",
       "      <th>BsmtFinSF2</th>\n",
       "      <th>...</th>\n",
       "      <th>GarageArea</th>\n",
       "      <th>WoodDeckSF</th>\n",
       "      <th>OpenPorchSF</th>\n",
       "      <th>EnclosedPorch</th>\n",
       "      <th>3SsnPorch</th>\n",
       "      <th>ScreenPorch</th>\n",
       "      <th>PoolArea</th>\n",
       "      <th>MiscVal</th>\n",
       "      <th>MoSold</th>\n",
       "      <th>YrSold</th>\n",
       "    </tr>\n",
       "  </thead>\n",
       "  <tbody>\n",
       "    <tr>\n",
       "      <th>0</th>\n",
       "      <td>1461</td>\n",
       "      <td>20</td>\n",
       "      <td>11622</td>\n",
       "      <td>5</td>\n",
       "      <td>6</td>\n",
       "      <td>1961</td>\n",
       "      <td>1961</td>\n",
       "      <td>0.0</td>\n",
       "      <td>468.0</td>\n",
       "      <td>144.0</td>\n",
       "      <td>...</td>\n",
       "      <td>730.0</td>\n",
       "      <td>140</td>\n",
       "      <td>0</td>\n",
       "      <td>0</td>\n",
       "      <td>0</td>\n",
       "      <td>120</td>\n",
       "      <td>0</td>\n",
       "      <td>0</td>\n",
       "      <td>6</td>\n",
       "      <td>2010</td>\n",
       "    </tr>\n",
       "    <tr>\n",
       "      <th>1</th>\n",
       "      <td>1462</td>\n",
       "      <td>20</td>\n",
       "      <td>14267</td>\n",
       "      <td>6</td>\n",
       "      <td>6</td>\n",
       "      <td>1958</td>\n",
       "      <td>1958</td>\n",
       "      <td>108.0</td>\n",
       "      <td>923.0</td>\n",
       "      <td>0.0</td>\n",
       "      <td>...</td>\n",
       "      <td>312.0</td>\n",
       "      <td>393</td>\n",
       "      <td>36</td>\n",
       "      <td>0</td>\n",
       "      <td>0</td>\n",
       "      <td>0</td>\n",
       "      <td>0</td>\n",
       "      <td>12500</td>\n",
       "      <td>6</td>\n",
       "      <td>2010</td>\n",
       "    </tr>\n",
       "    <tr>\n",
       "      <th>2</th>\n",
       "      <td>1463</td>\n",
       "      <td>60</td>\n",
       "      <td>13830</td>\n",
       "      <td>5</td>\n",
       "      <td>5</td>\n",
       "      <td>1997</td>\n",
       "      <td>1998</td>\n",
       "      <td>0.0</td>\n",
       "      <td>791.0</td>\n",
       "      <td>0.0</td>\n",
       "      <td>...</td>\n",
       "      <td>482.0</td>\n",
       "      <td>212</td>\n",
       "      <td>34</td>\n",
       "      <td>0</td>\n",
       "      <td>0</td>\n",
       "      <td>0</td>\n",
       "      <td>0</td>\n",
       "      <td>0</td>\n",
       "      <td>3</td>\n",
       "      <td>2010</td>\n",
       "    </tr>\n",
       "  </tbody>\n",
       "</table>\n",
       "<p>3 rows × 36 columns</p>\n",
       "</div>"
      ],
      "text/plain": [
       "     Id  MSSubClass  LotArea  OverallQual  OverallCond  YearBuilt  \\\n",
       "0  1461          20    11622            5            6       1961   \n",
       "1  1462          20    14267            6            6       1958   \n",
       "2  1463          60    13830            5            5       1997   \n",
       "\n",
       "   YearRemodAdd  MasVnrArea  BsmtFinSF1  BsmtFinSF2  ...  GarageArea  \\\n",
       "0          1961         0.0       468.0       144.0  ...       730.0   \n",
       "1          1958       108.0       923.0         0.0  ...       312.0   \n",
       "2          1998         0.0       791.0         0.0  ...       482.0   \n",
       "\n",
       "   WoodDeckSF  OpenPorchSF  EnclosedPorch  3SsnPorch  ScreenPorch  PoolArea  \\\n",
       "0         140            0              0          0          120         0   \n",
       "1         393           36              0          0            0         0   \n",
       "2         212           34              0          0            0         0   \n",
       "\n",
       "   MiscVal  MoSold  YrSold  \n",
       "0        0       6    2010  \n",
       "1    12500       6    2010  \n",
       "2        0       3    2010  \n",
       "\n",
       "[3 rows x 36 columns]"
      ]
     },
     "execution_count": 37,
     "metadata": {},
     "output_type": "execute_result"
    }
   ],
   "source": [
    "# Verificando a base restante\n",
    "teste.head(3)"
   ]
  },
  {
   "cell_type": "code",
   "execution_count": 38,
   "id": "194b4c8a",
   "metadata": {},
   "outputs": [
    {
     "data": {
      "text/plain": [
       "GarageYrBlt      0.053461\n",
       "MasVnrArea       0.010281\n",
       "BsmtHalfBath     0.001371\n",
       "BsmtFullBath     0.001371\n",
       "BsmtUnfSF        0.000685\n",
       "GarageCars       0.000685\n",
       "GarageArea       0.000685\n",
       "BsmtFinSF1       0.000685\n",
       "BsmtFinSF2       0.000685\n",
       "TotalBsmtSF      0.000685\n",
       "OpenPorchSF      0.000000\n",
       "WoodDeckSF       0.000000\n",
       "Id               0.000000\n",
       "EnclosedPorch    0.000000\n",
       "TotRmsAbvGrd     0.000000\n",
       "3SsnPorch        0.000000\n",
       "ScreenPorch      0.000000\n",
       "PoolArea         0.000000\n",
       "MiscVal          0.000000\n",
       "MoSold           0.000000\n",
       "Fireplaces       0.000000\n",
       "FullBath         0.000000\n",
       "KitchenAbvGr     0.000000\n",
       "BedroomAbvGr     0.000000\n",
       "HalfBath         0.000000\n",
       "MSSubClass       0.000000\n",
       "GrLivArea        0.000000\n",
       "LowQualFinSF     0.000000\n",
       "2ndFlrSF         0.000000\n",
       "1stFlrSF         0.000000\n",
       "YearRemodAdd     0.000000\n",
       "YearBuilt        0.000000\n",
       "OverallCond      0.000000\n",
       "OverallQual      0.000000\n",
       "LotArea          0.000000\n",
       "YrSold           0.000000\n",
       "dtype: float64"
      ]
     },
     "execution_count": 38,
     "metadata": {},
     "output_type": "execute_result"
    }
   ],
   "source": [
    "# Visualizando quantidade de valores vazios\n",
    "(teste.isnull().sum()/teste.shape[0]).sort_values(ascending=False)"
   ]
  },
  {
   "cell_type": "markdown",
   "id": "a573e49c",
   "metadata": {},
   "source": [
    "- **Podemos alterar todos esses valores vazios por -1**\n",
    "    - Não vai ser confundido com o zero\n",
    "    - Depois conseguimos retornar de forma fácil os valores que fizemos esse ajuste"
   ]
  },
  {
   "cell_type": "code",
   "execution_count": 39,
   "id": "99018e79",
   "metadata": {},
   "outputs": [],
   "source": [
    "# Trocando todos os valores vazios por -1\n",
    "teste = teste.fillna(-1)"
   ]
  },
  {
   "cell_type": "code",
   "execution_count": 40,
   "id": "710c1a6f",
   "metadata": {},
   "outputs": [
    {
     "data": {
      "text/plain": [
       "Id               0.0\n",
       "MSSubClass       0.0\n",
       "BedroomAbvGr     0.0\n",
       "KitchenAbvGr     0.0\n",
       "TotRmsAbvGrd     0.0\n",
       "Fireplaces       0.0\n",
       "GarageYrBlt      0.0\n",
       "GarageCars       0.0\n",
       "GarageArea       0.0\n",
       "WoodDeckSF       0.0\n",
       "OpenPorchSF      0.0\n",
       "EnclosedPorch    0.0\n",
       "3SsnPorch        0.0\n",
       "ScreenPorch      0.0\n",
       "PoolArea         0.0\n",
       "MiscVal          0.0\n",
       "MoSold           0.0\n",
       "HalfBath         0.0\n",
       "FullBath         0.0\n",
       "BsmtHalfBath     0.0\n",
       "BsmtFinSF1       0.0\n",
       "LotArea          0.0\n",
       "OverallQual      0.0\n",
       "OverallCond      0.0\n",
       "YearBuilt        0.0\n",
       "YearRemodAdd     0.0\n",
       "MasVnrArea       0.0\n",
       "BsmtFinSF2       0.0\n",
       "BsmtFullBath     0.0\n",
       "BsmtUnfSF        0.0\n",
       "TotalBsmtSF      0.0\n",
       "1stFlrSF         0.0\n",
       "2ndFlrSF         0.0\n",
       "LowQualFinSF     0.0\n",
       "GrLivArea        0.0\n",
       "YrSold           0.0\n",
       "dtype: float64"
      ]
     },
     "execution_count": 40,
     "metadata": {},
     "output_type": "execute_result"
    }
   ],
   "source": [
    "# Visualizando quantidade de valores vazios\n",
    "(teste.isnull().sum()/teste.shape[0]).sort_values(ascending=False)"
   ]
  },
  {
   "cell_type": "markdown",
   "id": "db767eed",
   "metadata": {},
   "source": [
    "- **Agora podemos usar nosso modelo e ajustar os dados para usarmos no Kaggle**"
   ]
  },
  {
   "cell_type": "code",
   "execution_count": 41,
   "id": "9b09d278",
   "metadata": {},
   "outputs": [],
   "source": [
    "# Vamos usar  a Regressão Linear para fazer a previsão\n",
    "y_pred = reg_rl.predict(teste)"
   ]
  },
  {
   "cell_type": "code",
   "execution_count": 42,
   "id": "511117c5",
   "metadata": {},
   "outputs": [
    {
     "data": {
      "text/plain": [
       "0       122234.995960\n",
       "1       139178.263684\n",
       "2       169872.054251\n",
       "3       199138.801656\n",
       "4       196257.109229\n",
       "            ...      \n",
       "1454     59584.320646\n",
       "1455     54459.048029\n",
       "1456    175307.588032\n",
       "1457    106132.531424\n",
       "1458    251494.077387\n",
       "Name: SalePrice, Length: 1459, dtype: float64"
      ]
     },
     "execution_count": 42,
     "metadata": {},
     "output_type": "execute_result"
    }
   ],
   "source": [
    "# Podemos adicionar essa coluna de previsão na nossa base\n",
    "teste['SalePrice'] = y_pred\n",
    "teste['SalePrice']"
   ]
  },
  {
   "cell_type": "code",
   "execution_count": 46,
   "id": "bc1fd647",
   "metadata": {},
   "outputs": [
    {
     "data": {
      "text/html": [
       "<div>\n",
       "<style scoped>\n",
       "    .dataframe tbody tr th:only-of-type {\n",
       "        vertical-align: middle;\n",
       "    }\n",
       "\n",
       "    .dataframe tbody tr th {\n",
       "        vertical-align: top;\n",
       "    }\n",
       "\n",
       "    .dataframe thead th {\n",
       "        text-align: right;\n",
       "    }\n",
       "</style>\n",
       "<table border=\"1\" class=\"dataframe\">\n",
       "  <thead>\n",
       "    <tr style=\"text-align: right;\">\n",
       "      <th></th>\n",
       "      <th>Id</th>\n",
       "      <th>SalePrice</th>\n",
       "    </tr>\n",
       "  </thead>\n",
       "  <tbody>\n",
       "    <tr>\n",
       "      <th>0</th>\n",
       "      <td>1461</td>\n",
       "      <td>122234.995960</td>\n",
       "    </tr>\n",
       "    <tr>\n",
       "      <th>1</th>\n",
       "      <td>1462</td>\n",
       "      <td>139178.263684</td>\n",
       "    </tr>\n",
       "    <tr>\n",
       "      <th>2</th>\n",
       "      <td>1463</td>\n",
       "      <td>169872.054251</td>\n",
       "    </tr>\n",
       "  </tbody>\n",
       "</table>\n",
       "</div>"
      ],
      "text/plain": [
       "     Id      SalePrice\n",
       "0  1461  122234.995960\n",
       "1  1462  139178.263684\n",
       "2  1463  169872.054251"
      ]
     },
     "execution_count": 46,
     "metadata": {},
     "output_type": "execute_result"
    }
   ],
   "source": [
    "# E extrair somente o Id e o SalePrice\n",
    "base_kaggle = teste[['Id','SalePrice']]\n",
    "base_kaggle.head(3)"
   ]
  },
  {
   "cell_type": "code",
   "execution_count": 47,
   "id": "9513b665",
   "metadata": {},
   "outputs": [],
   "source": [
    "# Podemos então exportar essa base\n",
    "base_kaggle.to_csv('resultado1.csv', index=False)"
   ]
  }
 ],
 "metadata": {
  "kernelspec": {
   "display_name": "Python 3 (ipykernel)",
   "language": "python",
   "name": "python3"
  },
  "language_info": {
   "codemirror_mode": {
    "name": "ipython",
    "version": 3
   },
   "file_extension": ".py",
   "mimetype": "text/x-python",
   "name": "python",
   "nbconvert_exporter": "python",
   "pygments_lexer": "ipython3",
   "version": "3.11.5"
  }
 },
 "nbformat": 4,
 "nbformat_minor": 5
}
